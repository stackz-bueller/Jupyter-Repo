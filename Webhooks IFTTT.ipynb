{
 "cells": [
  {
   "cell_type": "code",
   "execution_count": 1,
   "metadata": {},
   "outputs": [],
   "source": [
    "import requests\n",
    "from getpass import getpass"
   ]
  },
  {
   "cell_type": "code",
   "execution_count": 9,
   "metadata": {},
   "outputs": [
    {
     "name": "stdout",
     "output_type": "stream",
     "text": [
      "Enter IFTTT API Key: ········\n"
     ]
    }
   ],
   "source": [
    "# Capture API Key without Echo\n",
    "apiKey = getpass(prompt='Enter IFTTT API Key: ')\n",
    "\n",
    "# Set Trigger Name according to IFTTT Applet\n",
    "trigger = 'Jupyter_trigger'\n",
    "\n",
    "# Notification Method (Void Method, no returned value)\n",
    "def noft_alert(mecha, _type, alert):\n",
    "    report = {'value1' : mecha,\n",
    "              'value2' : _type,\n",
    "              'value3' : alert}\n",
    "    requests.post('https://maker.ifttt.com/trigger/'+trigger+'/with/key/'+apiKey,data=report)\n",
    "\n",
    "# Value A: Where Initiated\n",
    "a = 'Notebook'\n",
    "# Value B: Urgent or Normal\n",
    "b = 'Urgent'\n",
    "#Value C: Message\n",
    "c = 'IT WORKS!!!! IT FINALLY WORKS!!!!!'\n",
    "noft_alert(a, b, c)"
   ]
  },
  {
   "cell_type": "code",
   "execution_count": null,
   "metadata": {},
   "outputs": [],
   "source": []
  }
 ],
 "metadata": {
  "kernelspec": {
   "display_name": "Python 3",
   "language": "python",
   "name": "python3"
  },
  "language_info": {
   "codemirror_mode": {
    "name": "ipython",
    "version": 3
   },
   "file_extension": ".py",
   "mimetype": "text/x-python",
   "name": "python",
   "nbconvert_exporter": "python",
   "pygments_lexer": "ipython3",
   "version": "3.7.3"
  }
 },
 "nbformat": 4,
 "nbformat_minor": 2
}
