{
 "cells": [
  {
   "cell_type": "markdown",
   "metadata": {},
   "source": [
    "# Password Validator\n",
    "### *Programmer: Ian Davis*   \n",
    "&emsp;&emsp;__Language:__ &ensp;*Python*\n",
    "<br>&emsp;&emsp;__Date Created:__ &ensp;*November 10, 2019*\n",
    "<br>&emsp;&emsp;__Last Updated:__ &ensp;*November 10, 2019*\n",
    "<br>&emsp;&emsp;__Ported from:__ &ensp;*Java, orginally created October 21, 2014*\n",
    "\n",
    "#### Description:\n",
    "&emsp;&emsp;This code was ported from a Java based program, written for a CompSci class, to Python"
   ]
  },
  {
   "cell_type": "markdown",
   "metadata": {},
   "source": [
    "### Java Source Code for Comparison\n",
    "\n",
    "#### &emsp;&emsp;Original Java Source Code\n",
    "\n",
    "<br>package password.checker;\n",
    "<br>import java.util.Scanner;\n",
    "<br>import java.util.regex.Pattern;\n",
    "<br>import java.util.regex.Matcher;\n",
    "\n",
    "\n",
    "/**\n",
    " * Password Specification Checker\n",
    " * CSCI 111-900 (Online)\n",
    " * Professor Craig Nelson\n",
    " * Last Modified October 21st @ 16:01\n",
    " * @author Ian.Davis\n",
    " */\n",
    "\n",
    "public class PasswordChecker {\n",
    "\n",
    "    public static void main(String[] args) {\n",
    "\n",
    "        // Declare Variables\n",
    "\tString enter;\n",
    "        String pass1;\n",
    "        String pass2;\n",
    "        boolean check1;\n",
    "        boolean check2;\n",
    "        boolean check3;\n",
    "        boolean check4;\n",
    "        boolean check5;\n",
    "        boolean a = false;\n",
    "        \n",
    "        //Call Scanner and ask for inputs\n",
    "        Scanner input = new Scanner(System.in);\n",
    "        System.out.print(\"Please follow the directions below carefully. \"\n",
    "                + \"\\n\\t\\t\\t\\t\\t\\tPlease click this window and press Enter\");\n",
    "        enter = input.nextLine();\n",
    "        System.out.println();\n",
    "        \n",
    "        // Explaining the requirements for password\n",
    "        System.out.print(\"You will be asked to enter and re-enter a password of\"\n",
    "                + \" your choice; \\nYour password must contain atleast 8 \"\n",
    "                + \"characters long and contain atleast one of the following\"\n",
    "                + \" of each: \\n a letter \\n a number \\n a special\"\n",
    "                + \" character \\n\\t\\t\\t\\t\\t\\tPress Enter\");\n",
    "        enter = input.nextLine();\n",
    "        System.out.println();\n",
    "        \n",
    "        System.out.print(\"Your password must not begin with the following \"\n",
    "                + \"characters: \\n !, ?,\" + \"\\nNor can it contain a whitespace\"\n",
    "                + \"\\n\\t\\t\\t\\t\\t\\tPress Enter\");\n",
    "\tenter = input.nextLine();\n",
    "        System.out.println();\n",
    "        \n",
    "        System.out.print(\"Lastly, your password must not contain repeating \"\n",
    "                + \"characters greater than 2, i.e. '1111' or 'ccc'\" + \n",
    "                \"\\n\\t\\t\\t\\t\\t\\tPress Enter\");\n",
    "\tenter = input.nextLine();\n",
    "        System.out.println();\n",
    "        \n",
    "\tSystem.out.print(\"If these conditions are not met, the program will \"\n",
    "                + \"repeat itself until password entered is in correct \"\n",
    "                + \"format \\n\\t\\t\\t\\t\\t\\tPress Enter\");\n",
    "\tenter = input.nextLine();\n",
    "        \n",
    "        // Loop for entering password\n",
    "\tdo {  \n",
    "            System.out.print(\"\\nPlease enter your password, making \"\n",
    "                    + \"sure to follow the specifications above: \");\n",
    "            pass1 = input.nextLine();\n",
    "            System.out.print(\"Please re-enter your password: \");\n",
    "            pass2 = input.nextLine();\n",
    "            \n",
    "            // Checks for password requirements\n",
    "            check1 = findChar(pass1);\n",
    "            check2 = findnumbChar(pass1);\n",
    "            check3 = findspChar(pass1);\n",
    "            check4 = findspace(pass1);\n",
    "            check5 = findquestorexclam(pass1);\n",
    "            \n",
    "            // Check for repeating characters\n",
    "            int i;\n",
    "            for(i=0;i<pass1.length()-2;i++){\n",
    "                a = pass1.substring(i,i+1).equals(pass1.substring(i+1,i+2));\n",
    "            } //End of For statement\n",
    "\n",
    "            // While statements\n",
    "            }while (!pass1.equals(pass2) || pass1.length() < 8 || check1 != true \n",
    "                || check2 != true || check3 != true || check4 == true || \n",
    "                check5 == true || a != false);\n",
    "        \n",
    "        // Print when password is correct\n",
    "        System.out.print(\"\\nYour password is valid\\n\");\n",
    "    }\n",
    "    \n",
    "    // Check 1\n",
    "    public static boolean findChar(String pass1){\n",
    "        \n",
    "        // Compiles all alpha charaters to a pattern\n",
    "        Pattern p = Pattern.compile(\"[a-zA-Z]\");\n",
    "        // Matches charaters within the received password \n",
    "        Matcher m = p.matcher(pass1);\n",
    "        // Gives a True/False for matcher\n",
    "        boolean b = m.find();\n",
    "        return b;\n",
    "    } \n",
    "    \n",
    "    // Check 2\n",
    "    public static boolean findnumbChar(String pass1) {\n",
    "        // Compiles all number characters\n",
    "        Pattern p = Pattern.compile(\"[0-9]\");\n",
    "        Matcher m = p.matcher(pass1);\n",
    "        boolean b = m.find();\n",
    "        return b;\n",
    "    }\n",
    "    \n",
    "    // Check 3\n",
    "    public static boolean findspChar(String pass1) { \n",
    "        // Compiles all special characters\n",
    "        Pattern p = Pattern.compile(\"[^a-zA-Z0-9]\");\n",
    "        Matcher m = p.matcher(pass1);\n",
    "        boolean b = m.find();\n",
    "        return b;\n",
    "    }\n",
    "    \n",
    "    // Check 4\n",
    "    public static boolean findspace(String pass1) {\n",
    "        // Compiles whitespace\n",
    "        Pattern p = Pattern.compile(\"[ ]\");\n",
    "        Matcher m = p.matcher(pass1);\n",
    "        boolean b = m.find();\n",
    "        return b;\n",
    "    }\n",
    "    \n",
    "    // Check 5\n",
    "    public static boolean findquestorexclam(String pass1) {\n",
    "        // Compiles whitespace\n",
    "        boolean a;\n",
    "        a = pass1.substring(0,1).matches(\"[!?]\");\n",
    "        return a;\n",
    "    }\n",
    "}\n",
    "\n",
    "#### End of Java Souce Code "
   ]
  },
  {
   "cell_type": "markdown",
   "metadata": {},
   "source": [
    " "
   ]
  },
  {
   "cell_type": "markdown",
   "metadata": {},
   "source": [
    " "
   ]
  },
  {
   "cell_type": "markdown",
   "metadata": {},
   "source": [
    "# Python Script\n",
    "#### &emsp;&emsp;Beginning of Password Validator Code "
   ]
  },
  {
   "cell_type": "code",
   "execution_count": null,
   "metadata": {},
   "outputs": [],
   "source": [
    "# Import Regular Expressions and Getpass Modules\n",
    "import re\n",
    "from getpass import getpass"
   ]
  },
  {
   "cell_type": "code",
   "execution_count": null,
   "metadata": {},
   "outputs": [],
   "source": [
    "# Global Password Variable\n",
    "password = ''"
   ]
  },
  {
   "cell_type": "code",
   "execution_count": null,
   "metadata": {},
   "outputs": [],
   "source": [
    "# Created Color class for quick text muting reference\n",
    "class color:\n",
    "   PURPLE = '\\033[95m'\n",
    "   CYAN = '\\033[96m'\n",
    "   DARKCYAN = '\\033[36m'\n",
    "   BLUE = '\\033[94m'\n",
    "   GREEN = '\\033[92m'\n",
    "   YELLOW = '\\033[93m'\n",
    "   RED = '\\033[91m'\n",
    "   BOLD = '\\033[1m'\n",
    "   UNDERLINE = '\\033[4m'\n",
    "   END = '\\033[0m'"
   ]
  },
  {
   "cell_type": "markdown",
   "metadata": {},
   "source": [
    "# Password Specs Given to User\n",
    "    Specifications:\n",
    "        + 8 or more characters\n",
    "        + At least One:\n",
    "            - Letter\n",
    "            - Uppercase Letter\n",
    "            - Number\n",
    "            - Special Character (Any on Keyboard)  \n",
    "        + And none of these:\n",
    "            - '!' or '?' in Leading Element\n",
    "            - Repeating Characters\n",
    "            - Nothing, or empty entry\n",
    "            - Whitespaces"
   ]
  },
  {
   "cell_type": "code",
   "execution_count": null,
   "metadata": {},
   "outputs": [],
   "source": [
    "# This method states to user the specifications of password in order to be accepted\n",
    "def printPasswordSpecs():\n",
    "    print('Welcome\\nPlease create a password according to the following specifications\\n')\n",
    "    \n",
    "    print('\\tThe password must have', color.BOLD,' at least', color.END,'8 characters\\n\\n',color.BOLD,\n",
    "          '\\tThe password must contain at least one of the following:\\n\\t\\t'\n",
    "          + 'A Letter\\n\\t\\tA Capital Letter\\n\\t\\tA Special Character\\n',color.END)\n",
    "    print(color.BOLD,'\\tThe password must not contain:\\n\\t\\tA Leading \\'!\\' or \\'?\\''\n",
    "          + '\\n\\t\\tRepeating Characters or Numbers greater than 2\\n\\t\\tA Whitespace\\n', color.END)"
   ]
  },
  {
   "cell_type": "markdown",
   "metadata": {},
   "source": [
    "# Password Validation Algorithm Methods\n",
    "    This is the cell contain all of the Password Validation Algorithm Methods"
   ]
  },
  {
   "cell_type": "code",
   "execution_count": null,
   "metadata": {},
   "outputs": [],
   "source": [
    "# Checks is password string is empty\n",
    "def empty(password):\n",
    "    return password == ''\n",
    "\n",
    "# Checks password string for a Capital Character\n",
    "def findPassLen(password):\n",
    "    return len(password) >= 8\n",
    "\n",
    "def findChar(password):\n",
    "    return re.search('[a-z]', password)\n",
    "\n",
    "# Checks password string for a Capital Character\n",
    "def findChapChar(password):\n",
    "    return re.search('[A-Z]', password)\n",
    "\n",
    "# Checks password string for a Number\n",
    "def findNumb(password):\n",
    "    return re.search('[0-9]', password)\n",
    "\n",
    "# Checks password string for a Special Character\n",
    "def findSpecChar(password):\n",
    "    return re.search('\\W', password)\n",
    "\n",
    "# Checks password string for a Whitespace\n",
    "def findSpace(password):\n",
    "    return re.search('\\s', password)\n",
    "\n",
    "# Checks password string for Repeating Characters\n",
    "def findRepeats(password):\n",
    "    bool = False\n",
    "    for i in range(len(password) - 2):\n",
    "        if password[i:i+1] is password[i+1:i+2]:\n",
    "            bool = True\n",
    "            break\n",
    "    return bool\n",
    "\n",
    "# Checks if first element in password string is '!' or '?'\n",
    "def findFirst(password):\n",
    "    return re.match('[!?]', password)"
   ]
  },
  {
   "cell_type": "markdown",
   "metadata": {},
   "source": [
    "# Action Algorithm Cell\n",
    "\n",
    "    This cell contains the 'While' Loop that runs until password is satisfied. \n",
    "    A try, except block is added to allow keyboard interruption."
   ]
  },
  {
   "cell_type": "code",
   "execution_count": null,
   "metadata": {},
   "outputs": [],
   "source": [
    "def PasswordsValidator():\n",
    "    try:\n",
    "        while True:\n",
    "\n",
    "            pass1 = getpass(prompt='Please enter your password: ')\n",
    "            pass2 = getpass(prompt='Please re-enter your password: ')\n",
    "            \n",
    "            if pass1 == pass2:\n",
    "                if empty(pass2):\n",
    "                    print('Password is empty, please input characters')\n",
    "                elif not findPassLen(pass2):\n",
    "                    print('Password must be 8 or more characters!\\n')\n",
    "                elif not findChar(pass2):\n",
    "                    print('\\nThis password is not valid, it has no letters!\\n')\n",
    "                elif not findChapChar(pass2):\n",
    "                    print('\\nThis password is not valid, it lacks a capital letter!\\n')\n",
    "                elif not findNumb(pass2):\n",
    "                    print('\\nThis password is not valid, it lacks a number!\\n')\n",
    "                elif not findSpecChar(pass2):\n",
    "                    print('\\nThis password is not valid, it lacks a special character!\\n')\n",
    "                elif findFirst(pass2):\n",
    "                    print('\\nThis password is not valid, it contains a \\'!\\' or \\'?\\' at the front of password!\\n')\n",
    "                elif findRepeats(pass2):\n",
    "                    print('\\nThis password is not valid, it contains repeating characters or numbers!\\n')\n",
    "                elif findSpace(pass2):\n",
    "                    print('\\nThis password is not valid, it contains a space!\\n')\n",
    "                else:\n",
    "                    print('\\n', color.BOLD, 'This password is accepted!', color.END)\n",
    "                    break\n",
    "            else:\n",
    "                print('\\nYour passwords do not match!\\n')\n",
    "        return pass2\n",
    "    \n",
    "    except KeyboardInterrupt:\n",
    "        print('Interrupted!')"
   ]
  },
  {
   "cell_type": "markdown",
   "metadata": {},
   "source": [
    "# Algorithm Engine Cell\n",
    "    This cell combines the 'printPasswordSpecs' method with 'PasswordsValidator' method\n",
    "    Updates global password variable"
   ]
  },
  {
   "cell_type": "code",
   "execution_count": null,
   "metadata": {},
   "outputs": [],
   "source": [
    "def main():\n",
    "    global password\n",
    "    printPasswordSpecs()\n",
    "    password = PasswordsValidator()"
   ]
  },
  {
   "cell_type": "markdown",
   "metadata": {},
   "source": [
    "# Starter Cell\n",
    "    Calls main() to run"
   ]
  },
  {
   "cell_type": "code",
   "execution_count": null,
   "metadata": {},
   "outputs": [],
   "source": [
    "if __name__=='__main__':\n",
    "    main()"
   ]
  },
  {
   "cell_type": "code",
   "execution_count": null,
   "metadata": {},
   "outputs": [],
   "source": [
    "# To show that the password was captured, run the cell below"
   ]
  },
  {
   "cell_type": "code",
   "execution_count": null,
   "metadata": {},
   "outputs": [],
   "source": [
    "password"
   ]
  }
 ],
 "metadata": {
  "kernelspec": {
   "display_name": "Python 3",
   "language": "python",
   "name": "python3"
  },
  "language_info": {
   "codemirror_mode": {
    "name": "ipython",
    "version": 3
   },
   "file_extension": ".py",
   "mimetype": "text/x-python",
   "name": "python",
   "nbconvert_exporter": "python",
   "pygments_lexer": "ipython3",
   "version": "3.7.3"
  }
 },
 "nbformat": 4,
 "nbformat_minor": 2
}
