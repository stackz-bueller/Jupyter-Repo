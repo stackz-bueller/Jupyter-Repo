{
 "cells": [
  {
   "cell_type": "code",
   "execution_count": 1,
   "metadata": {},
   "outputs": [],
   "source": [
    "import hashlib, binascii, os\n",
    "import re\n",
    "from getpass import getpass"
   ]
  },
  {
   "cell_type": "code",
   "execution_count": 2,
   "metadata": {},
   "outputs": [],
   "source": [
    "class Setup:\n",
    "    \n",
    "    class color:\n",
    "        PURPLE = '\\033[95m'\n",
    "        CYAN = '\\033[96m'\n",
    "        DARKCYAN = '\\033[36m'\n",
    "        BLUE = '\\033[94m'\n",
    "        GREEN = '\\033[92m'\n",
    "        YELLOW = '\\033[93m'\n",
    "        RED = '\\033[91m'\n",
    "        BOLD = '\\033[1m'\n",
    "        UNDERLINE = '\\033[4m'\n",
    "        END = '\\033[0m'\n",
    "        \n",
    "    def printPasswordSpecs():\n",
    "        print('Welcome\\nPlease create a password according to the following specifications\\n')\n",
    "\n",
    "        print('\\tThe password must have', color.BOLD,' at least', color.END,'8 characters\\n\\n',color.BOLD,\n",
    "              '\\tThe password must contain at least one of the following:\\n\\t\\t'\n",
    "              + 'A Letter\\n\\t\\tA Capital Letter\\n\\t\\tA Special Character\\n',color.END)\n",
    "        print(color.BOLD,'\\tThe password must not contain:\\n\\t\\tA Leading \\'!\\' or \\'?\\''\n",
    "              + '\\n\\t\\tRepeating Characters or Numbers greater than 2\\n\\t\\tA Whitespace\\n', color.END)\n",
    "        "
   ]
  },
  {
   "cell_type": "code",
   "execution_count": 3,
   "metadata": {},
   "outputs": [],
   "source": [
    "class Algorithm:\n",
    "    def empty(password):\n",
    "        return password == ''\n",
    "\n",
    "    # Checks password string for a Capital Character\n",
    "    def findPassLen(password):\n",
    "        return len(password) >= 8\n",
    "    # Checks for lowercase\n",
    "    def findChar(password):\n",
    "        return re.search('[a-z]', password)\n",
    "\n",
    "    # Checks password string for a Capital Character\n",
    "    def findChapChar(password):\n",
    "        return re.search('[A-Z]', password)\n",
    "\n",
    "    # Checks password string for a Number\n",
    "    def findNumb(password):\n",
    "        return re.search('[0-9]', password)\n",
    "\n",
    "    # Checks password string for a Special Character\n",
    "    def findSpecChar(password):\n",
    "        return re.search('\\W', password)\n",
    "\n",
    "    # Checks password string for a Whitespace\n",
    "    def findSpace(password):\n",
    "        return re.search('\\s', password)\n",
    "\n",
    "    # Checks password string for Repeating Characters\n",
    "    def findRepeats(password):\n",
    "        bool = False\n",
    "        for i in range(len(password) - 2):\n",
    "            if password[i:i+1] is password[i+2:i+3]:\n",
    "                bool = True\n",
    "                break\n",
    "        return bool\n",
    "\n",
    "    # Checks if first element in password string is '!' or '?'\n",
    "    def findFirst(password):\n",
    "        return re.match('[!?]', password)\n",
    "        \n",
    "    # Validator\n",
    "    def PasswordsValidator():\n",
    "        color = Setup.color\n",
    "        try:\n",
    "            while True:\n",
    "\n",
    "                pass1 = getpass(prompt='Please enter your password: ')\n",
    "                pass2 = getpass(prompt='Please re-enter your password: ')\n",
    "\n",
    "                if pass1 == pass2:\n",
    "                    if Algorithm.empty(pass2):\n",
    "                        print(color.BOLD,'\\nPassword is empty, please input characters',color.END)\n",
    "                    elif not Algorithm.findPassLen(pass2):\n",
    "                        print(color.BOLD,'\\nPassword must be 8 or more characters!\\n',color.END)\n",
    "                    elif not Algorithm.findChar(pass2):\n",
    "                        print(color.BOLD,'\\nThis password is not valid, it has no letters!\\n',color.END)\n",
    "                    elif not Algorithm.findChapChar(pass2):\n",
    "                        print(color.BOLD,'\\nThis password is not valid, it lacks a capital letter!\\n',color.END)\n",
    "                    elif not Algorithm.findNumb(pass2):\n",
    "                        print(color.BOLD,'\\nThis password is not valid, it lacks a number!\\n',color.END)\n",
    "                    elif not Algorithm.findSpecChar(pass2):\n",
    "                        print(color.BOLD,'\\nThis password is not valid, it lacks a special character!\\n',color.END)\n",
    "                    elif Algorithm.findFirst(pass2):\n",
    "                        print(color.BOLD,'\\nThis password is not valid, it contains a \\'!\\' or \\'?\\' at the front of password!\\n',color.END)\n",
    "                    elif Algorithm.findRepeats(pass2):\n",
    "                        print(color.BOLD,'\\nThis password is not valid, it contains repeating characters or numbers!\\n',color.END)\n",
    "                    elif Algorithm.findSpace(pass2):\n",
    "                        print(color.BOLD,'\\nThis password is not valid, it contains a space!\\n',color.END)\n",
    "                    else:\n",
    "                        print('\\n',color.BOLD,color.DARKCYAN,'This password is accepted!',color.END)\n",
    "                        break\n",
    "                else:\n",
    "                    print(color.BOLD,'\\nYour passwords do not match!\\n',color.END)\n",
    "            return pass2\n",
    "\n",
    "        except KeyboardInterrupt:\n",
    "            print('Interrupted!')\n",
    "        "
   ]
  },
  {
   "cell_type": "code",
   "execution_count": 4,
   "metadata": {},
   "outputs": [],
   "source": [
    "class saltAndHash:\n",
    "        \n",
    "    def hash_password(password):\n",
    "        \"\"\"Hash a password for storing.\"\"\"\n",
    "        salt = hashlib.sha256(os.urandom(60)).hexdigest().encode('ascii')\n",
    "        passHash = hashlib.pbkdf2_hmac('sha512', password.encode('utf-8'), \n",
    "                                        salt, 100000)\n",
    "        passHash = binascii.hexlify(passHash)\n",
    "        return (salt + passHash).decode('ascii')\n",
    "\n",
    "    def verify_password(stored_password, provided_password):\n",
    "        \"\"\"Verify a stored password against one provided by user\"\"\"\n",
    "        salt = stored_password[:64]\n",
    "        stored_password = stored_password[64:]\n",
    "        pwdhash = hashlib.pbkdf2_hmac('sha512', \n",
    "                                      provided_password.encode('utf-8'), \n",
    "                                      salt.encode('ascii'), 100000)\n",
    "        pwdhash = binascii.hexlify(pwdhash).decode('ascii')\n",
    "        return pwdhash == stored_password\n",
    "    "
   ]
  },
  {
   "cell_type": "code",
   "execution_count": 5,
   "metadata": {},
   "outputs": [],
   "source": [
    "def main():\n",
    "    return saltAndHash.hash_password(Algorithm.PasswordsValidator())\n"
   ]
  },
  {
   "cell_type": "code",
   "execution_count": 6,
   "metadata": {},
   "outputs": [
    {
     "name": "stdout",
     "output_type": "stream",
     "text": [
      "Please enter your password: ········\n",
      "Please re-enter your password: ········\n",
      "\n",
      " \u001b[1m \u001b[36m This password is accepted! \u001b[0m\n"
     ]
    }
   ],
   "source": [
    "passHash = main()"
   ]
  },
  {
   "cell_type": "code",
   "execution_count": 7,
   "metadata": {},
   "outputs": [
    {
     "data": {
      "text/plain": [
       "'f7bbbf1ebb0cdc6b320a3e4b7e43cdb40e5a03e86e59ecfbb8434ad06d139cf78a919cb49497aacb0534613af622e54aff2df4f7eb3480a8aa53644e14bf6115018eb08432bc26600cd2b852246af4769e5b7feee741d7cfb83c87835897784f'"
      ]
     },
     "execution_count": 7,
     "metadata": {},
     "output_type": "execute_result"
    }
   ],
   "source": [
    "passHash"
   ]
  },
  {
   "cell_type": "code",
   "execution_count": 8,
   "metadata": {},
   "outputs": [
    {
     "data": {
      "text/plain": [
       "True"
      ]
     },
     "execution_count": 8,
     "metadata": {},
     "output_type": "execute_result"
    }
   ],
   "source": [
    "saltAndHash.verify_password(passHash,'thisP@sswordWork6')"
   ]
  }
 ],
 "metadata": {
  "kernelspec": {
   "display_name": "Python 3",
   "language": "python",
   "name": "python3"
  },
  "language_info": {
   "codemirror_mode": {
    "name": "ipython",
    "version": 3
   },
   "file_extension": ".py",
   "mimetype": "text/x-python",
   "name": "python",
   "nbconvert_exporter": "python",
   "pygments_lexer": "ipython3",
   "version": "3.7.3"
  }
 },
 "nbformat": 4,
 "nbformat_minor": 2
}
